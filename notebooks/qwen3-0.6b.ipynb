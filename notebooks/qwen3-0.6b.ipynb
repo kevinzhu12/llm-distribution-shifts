{
 "cells": [
  {
   "cell_type": "code",
   "execution_count": null,
   "id": "161592c2-1030-405f-b7f6-27b41977a73c",
   "metadata": {},
   "outputs": [],
   "source": [
    "from transformers import AutoModelForCausalLM, AutoTokenizer\n",
    "from peft import LoraConfig, get_peft_model, prepare_model_for_kbit_training\n",
    "\n",
    "model_name = \"Qwen/Qwen3-0.6B\"\n",
    "\n",
    "# load the tokenizer and the model\n",
    "tokenizer = AutoTokenizer.from_pretrained(model_name)\n",
    "\n",
    "model = AutoModelForCausalLM.from_pretrained(\n",
    "    model_name,\n",
    "    trust_remote_code=True,\n",
    "    load_in_4bit=True,      # bitsandbytes QLoRA\n",
    "    device_map=\"auto\",\n",
    ")\n",
    "# Prepare for k-bit training (freeze layers, cast norms, etc.)\n",
    "model = prepare_model_for_kbit_training(model) \n",
    "\n",
    "# 2. Attach LoRA adapters\n",
    "lora_cfg = LoraConfig(\n",
    "    r=16,\n",
    "    lora_alpha=32,\n",
    "    lora_dropout=0.05,\n",
    "    target_modules=[\"q_proj\", \"v_proj\", \"k_proj\", \"o_proj\"],\n",
    "    bias=\"none\",\n",
    "    task_type=\"CAUSAL_LM\",\n",
    ")\n",
    "model = get_peft_model(model, lora_cfg) \n",
    "model.print_trainable_parameters()"
   ]
  },
  {
   "cell_type": "code",
   "execution_count": null,
   "id": "a5e2c985-6da9-4448-86aa-9c9181cda24c",
   "metadata": {},
   "outputs": [],
   "source": [
    "print(model.generation_config.temperature)  # likely 0.6"
   ]
  },
  {
   "cell_type": "code",
   "execution_count": null,
   "id": "a8e1a536-badb-42d7-a36d-36667dcf3421",
   "metadata": {},
   "outputs": [],
   "source": [
    "# prepare the model input\n",
    "prompt = \"Toula went to the bakery and bought various types of pastries. She bought 3 dozen donuts which cost $68 per dozen, 2 dozen mini cupcakes which cost $80 per dozen, and 6 dozen mini cheesecakes for $55 per dozen. How much was the total cost?\"\n",
    "messages = [\n",
    "    {\"role\": \"user\", \"content\": prompt}\n",
    "]\n",
    "text = tokenizer.apply_chat_template(\n",
    "    messages,\n",
    "    tokenize=False,\n",
    "    add_generation_prompt=True,\n",
    "    enable_thinking=False # Switches between thinking and non-thinking modes. Default is True.\n",
    ")\n",
    "model_inputs = tokenizer([text], return_tensors=\"pt\").to(model.device)\n",
    "\n",
    "# conduct text completion\n",
    "generated_ids = model.generate(\n",
    "    **model_inputs,\n",
    "    max_new_tokens=32768,\n",
    "    do_sample=False,\n",
    "    temperature=0.0,\n",
    ")\n",
    "output_ids = generated_ids[0][len(model_inputs.input_ids[0]):].tolist() \n",
    "\n",
    "# parsing thinking content\n",
    "try:\n",
    "    # rindex finding 151668 (</think>)\n",
    "    index = len(output_ids) - output_ids[::-1].index(151668)\n",
    "except ValueError:\n",
    "    index = 0\n",
    "\n",
    "thinking_content = tokenizer.decode(output_ids[:index], skip_special_tokens=True).strip(\"\\n\")\n",
    "content = tokenizer.decode(output_ids[index:], skip_special_tokens=True).strip(\"\\n\")\n",
    "\n",
    "print(\"thinking content:\", thinking_content)\n",
    "print(\"content:\", content)"
   ]
  },
  {
   "cell_type": "code",
   "execution_count": null,
   "id": "68c8a435-9911-4775-8634-6ed5b568e990",
   "metadata": {},
   "outputs": [],
   "source": [
    "########################"
   ]
  },
  {
   "cell_type": "code",
   "execution_count": null,
   "id": "096aef1c-2f33-41c4-a505-5d87de52d5f1",
   "metadata": {
    "scrolled": true
   },
   "outputs": [],
   "source": [
    "# ─── Cell 1: Imports & Quantized + LoRA-Wrapped Model Loading ───\n",
    "import torch\n",
    "from transformers import AutoModelForCausalLM, AutoTokenizer, BitsAndBytesConfig\n",
    "from peft import PeftModel, prepare_model_for_kbit_training\n",
    "\n",
    "# 1. Quantization config\n",
    "bnb_config = BitsAndBytesConfig(\n",
    "    load_in_4bit=True,\n",
    "    bnb_4bit_compute_dtype=torch.float16,\n",
    "    bnb_4bit_use_double_quant=True,\n",
    "    bnb_4bit_quant_type=\"nf4\",\n",
    ")\n",
    "\n",
    "# 2. Load base in 4-bit\n",
    "base = AutoModelForCausalLM.from_pretrained(\n",
    "    \"Qwen/Qwen3-0.6B\",\n",
    "    device_map=\"auto\",\n",
    "    quantization_config=bnb_config\n",
    ")\n",
    "print(\"Base params:\", sum(p.numel() for p in base.parameters()))\n",
    "\n",
    "# 3. Prep for k-bit LoRA\n",
    "base = prepare_model_for_kbit_training(base)\n",
    "\n",
    "# 4. Load your adapter\n",
    "peft_model = PeftModel.from_pretrained(\n",
    "    base,\n",
    "    \"../outputs/qwen3-0.6B-gsm8k-lora/adapter\",\n",
    "    is_trainable=True\n",
    ")\n",
    "\n",
    "# 5. Inspect parameter counts\n",
    "total = sum(p.numel() for p in peft_model.parameters())\n",
    "trainable = sum(p.numel() for p in peft_model.parameters() if p.requires_grad)\n",
    "print(f\"Total: {total:,} | Trainable: {trainable:,} ({100*trainable/total:.2f}%)\")\n",
    "\n",
    "# move model to GPU (or stay on CPU if no GPU)\n",
    "device = \"cuda\" if torch.cuda.is_available() else \"cpu\"\n",
    "peft_model.to(device)\n",
    "peft_model.eval()"
   ]
  },
  {
   "cell_type": "code",
   "execution_count": 2,
   "id": "93436de3-6671-42a2-8b0f-5038bb518b3b",
   "metadata": {},
   "outputs": [],
   "source": [
    "# ─── Cell 2: Tokenizer & Generate Function ───\n",
    "# 6. Tokenizer\n",
    "tokenizer = AutoTokenizer.from_pretrained(\"Qwen/Qwen3-0.6B\", use_fast=True)\n",
    "\n",
    "# 7. Inference helper\n",
    "def generate(prompt: str,\n",
    "             max_new_tokens: int = 128,\n",
    "             temperature: float = 0.7,\n",
    "             do_sample: bool = True):\n",
    "    inputs = tokenizer(prompt, return_tensors=\"pt\").to(device)\n",
    "    with torch.no_grad():\n",
    "        out = peft_model.generate(\n",
    "            **inputs,\n",
    "            max_new_tokens=max_new_tokens,\n",
    "            do_sample=do_sample,\n",
    "            temperature=temperature,\n",
    "            eos_token_id=tokenizer.eos_token_id\n",
    "        )\n",
    "    return tokenizer.decode(out[0], skip_special_tokens=True)\n"
   ]
  },
  {
   "cell_type": "code",
   "execution_count": null,
   "id": "4981b7e7-3108-47e1-bc28-f4bf08030c98",
   "metadata": {},
   "outputs": [],
   "source": [
    "# ─── Cell 3: Run Some Examples ───\n",
    "# You can now call generate(...) in any later cell:\n",
    "\n",
    "prompt = \"Weng earns $12 an hour for babysitting. Yesterday, she just did 50 minutes of babysitting. How much did she earn?\"\n",
    "print(generate(prompt, max_new_tokens=256, temperature=0.0, do_sample=False))\n"
   ]
  }
 ],
 "metadata": {
  "kernelspec": {
   "display_name": "Python 3",
   "language": "python",
   "name": "python3"
  },
  "language_info": {
   "codemirror_mode": {
    "name": "ipython",
    "version": 3
   },
   "file_extension": ".py",
   "mimetype": "text/x-python",
   "name": "python",
   "nbconvert_exporter": "python",
   "pygments_lexer": "ipython3",
   "version": "3.12.9"
  }
 },
 "nbformat": 4,
 "nbformat_minor": 5
}
